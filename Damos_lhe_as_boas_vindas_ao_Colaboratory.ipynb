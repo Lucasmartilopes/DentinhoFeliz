{
  "cells": [
    {
      "cell_type": "code",
      "source": [
        "!pip install tensorflow scikit-learn pandas nltk\n"
      ],
      "metadata": {
        "id": "jS0IxEl9mgqh",
        "outputId": "0dc06835-91f3-4011-969f-72a6df426f5d",
        "colab": {
          "base_uri": "https://localhost:8080/"
        }
      },
      "execution_count": 1,
      "outputs": [
        {
          "output_type": "stream",
          "name": "stdout",
          "text": [
            "Requirement already satisfied: tensorflow in /usr/local/lib/python3.10/dist-packages (2.17.0)\n",
            "Requirement already satisfied: scikit-learn in /usr/local/lib/python3.10/dist-packages (1.5.2)\n",
            "Requirement already satisfied: pandas in /usr/local/lib/python3.10/dist-packages (2.2.2)\n",
            "Requirement already satisfied: nltk in /usr/local/lib/python3.10/dist-packages (3.8.1)\n",
            "Requirement already satisfied: absl-py>=1.0.0 in /usr/local/lib/python3.10/dist-packages (from tensorflow) (1.4.0)\n",
            "Requirement already satisfied: astunparse>=1.6.0 in /usr/local/lib/python3.10/dist-packages (from tensorflow) (1.6.3)\n",
            "Requirement already satisfied: flatbuffers>=24.3.25 in /usr/local/lib/python3.10/dist-packages (from tensorflow) (24.3.25)\n",
            "Requirement already satisfied: gast!=0.5.0,!=0.5.1,!=0.5.2,>=0.2.1 in /usr/local/lib/python3.10/dist-packages (from tensorflow) (0.6.0)\n",
            "Requirement already satisfied: google-pasta>=0.1.1 in /usr/local/lib/python3.10/dist-packages (from tensorflow) (0.2.0)\n",
            "Requirement already satisfied: h5py>=3.10.0 in /usr/local/lib/python3.10/dist-packages (from tensorflow) (3.12.1)\n",
            "Requirement already satisfied: libclang>=13.0.0 in /usr/local/lib/python3.10/dist-packages (from tensorflow) (18.1.1)\n",
            "Requirement already satisfied: ml-dtypes<0.5.0,>=0.3.1 in /usr/local/lib/python3.10/dist-packages (from tensorflow) (0.4.1)\n",
            "Requirement already satisfied: opt-einsum>=2.3.2 in /usr/local/lib/python3.10/dist-packages (from tensorflow) (3.4.0)\n",
            "Requirement already satisfied: packaging in /usr/local/lib/python3.10/dist-packages (from tensorflow) (24.1)\n",
            "Requirement already satisfied: protobuf!=4.21.0,!=4.21.1,!=4.21.2,!=4.21.3,!=4.21.4,!=4.21.5,<5.0.0dev,>=3.20.3 in /usr/local/lib/python3.10/dist-packages (from tensorflow) (3.20.3)\n",
            "Requirement already satisfied: requests<3,>=2.21.0 in /usr/local/lib/python3.10/dist-packages (from tensorflow) (2.32.3)\n",
            "Requirement already satisfied: setuptools in /usr/local/lib/python3.10/dist-packages (from tensorflow) (75.1.0)\n",
            "Requirement already satisfied: six>=1.12.0 in /usr/local/lib/python3.10/dist-packages (from tensorflow) (1.16.0)\n",
            "Requirement already satisfied: termcolor>=1.1.0 in /usr/local/lib/python3.10/dist-packages (from tensorflow) (2.5.0)\n",
            "Requirement already satisfied: typing-extensions>=3.6.6 in /usr/local/lib/python3.10/dist-packages (from tensorflow) (4.12.2)\n",
            "Requirement already satisfied: wrapt>=1.11.0 in /usr/local/lib/python3.10/dist-packages (from tensorflow) (1.16.0)\n",
            "Requirement already satisfied: grpcio<2.0,>=1.24.3 in /usr/local/lib/python3.10/dist-packages (from tensorflow) (1.64.1)\n",
            "Requirement already satisfied: tensorboard<2.18,>=2.17 in /usr/local/lib/python3.10/dist-packages (from tensorflow) (2.17.0)\n",
            "Requirement already satisfied: keras>=3.2.0 in /usr/local/lib/python3.10/dist-packages (from tensorflow) (3.4.1)\n",
            "Requirement already satisfied: tensorflow-io-gcs-filesystem>=0.23.1 in /usr/local/lib/python3.10/dist-packages (from tensorflow) (0.37.1)\n",
            "Requirement already satisfied: numpy<2.0.0,>=1.23.5 in /usr/local/lib/python3.10/dist-packages (from tensorflow) (1.26.4)\n",
            "Requirement already satisfied: scipy>=1.6.0 in /usr/local/lib/python3.10/dist-packages (from scikit-learn) (1.13.1)\n",
            "Requirement already satisfied: joblib>=1.2.0 in /usr/local/lib/python3.10/dist-packages (from scikit-learn) (1.4.2)\n",
            "Requirement already satisfied: threadpoolctl>=3.1.0 in /usr/local/lib/python3.10/dist-packages (from scikit-learn) (3.5.0)\n",
            "Requirement already satisfied: python-dateutil>=2.8.2 in /usr/local/lib/python3.10/dist-packages (from pandas) (2.8.2)\n",
            "Requirement already satisfied: pytz>=2020.1 in /usr/local/lib/python3.10/dist-packages (from pandas) (2024.2)\n",
            "Requirement already satisfied: tzdata>=2022.7 in /usr/local/lib/python3.10/dist-packages (from pandas) (2024.2)\n",
            "Requirement already satisfied: click in /usr/local/lib/python3.10/dist-packages (from nltk) (8.1.7)\n",
            "Requirement already satisfied: regex>=2021.8.3 in /usr/local/lib/python3.10/dist-packages (from nltk) (2024.9.11)\n",
            "Requirement already satisfied: tqdm in /usr/local/lib/python3.10/dist-packages (from nltk) (4.66.6)\n",
            "Requirement already satisfied: wheel<1.0,>=0.23.0 in /usr/local/lib/python3.10/dist-packages (from astunparse>=1.6.0->tensorflow) (0.44.0)\n",
            "Requirement already satisfied: rich in /usr/local/lib/python3.10/dist-packages (from keras>=3.2.0->tensorflow) (13.9.3)\n",
            "Requirement already satisfied: namex in /usr/local/lib/python3.10/dist-packages (from keras>=3.2.0->tensorflow) (0.0.8)\n",
            "Requirement already satisfied: optree in /usr/local/lib/python3.10/dist-packages (from keras>=3.2.0->tensorflow) (0.13.0)\n",
            "Requirement already satisfied: charset-normalizer<4,>=2 in /usr/local/lib/python3.10/dist-packages (from requests<3,>=2.21.0->tensorflow) (3.4.0)\n",
            "Requirement already satisfied: idna<4,>=2.5 in /usr/local/lib/python3.10/dist-packages (from requests<3,>=2.21.0->tensorflow) (3.10)\n",
            "Requirement already satisfied: urllib3<3,>=1.21.1 in /usr/local/lib/python3.10/dist-packages (from requests<3,>=2.21.0->tensorflow) (2.2.3)\n",
            "Requirement already satisfied: certifi>=2017.4.17 in /usr/local/lib/python3.10/dist-packages (from requests<3,>=2.21.0->tensorflow) (2024.8.30)\n",
            "Requirement already satisfied: markdown>=2.6.8 in /usr/local/lib/python3.10/dist-packages (from tensorboard<2.18,>=2.17->tensorflow) (3.7)\n",
            "Requirement already satisfied: tensorboard-data-server<0.8.0,>=0.7.0 in /usr/local/lib/python3.10/dist-packages (from tensorboard<2.18,>=2.17->tensorflow) (0.7.2)\n",
            "Requirement already satisfied: werkzeug>=1.0.1 in /usr/local/lib/python3.10/dist-packages (from tensorboard<2.18,>=2.17->tensorflow) (3.0.6)\n",
            "Requirement already satisfied: MarkupSafe>=2.1.1 in /usr/local/lib/python3.10/dist-packages (from werkzeug>=1.0.1->tensorboard<2.18,>=2.17->tensorflow) (3.0.2)\n",
            "Requirement already satisfied: markdown-it-py>=2.2.0 in /usr/local/lib/python3.10/dist-packages (from rich->keras>=3.2.0->tensorflow) (3.0.0)\n",
            "Requirement already satisfied: pygments<3.0.0,>=2.13.0 in /usr/local/lib/python3.10/dist-packages (from rich->keras>=3.2.0->tensorflow) (2.18.0)\n",
            "Requirement already satisfied: mdurl~=0.1 in /usr/local/lib/python3.10/dist-packages (from markdown-it-py>=2.2.0->rich->keras>=3.2.0->tensorflow) (0.1.2)\n"
          ]
        }
      ]
    },
    {
      "cell_type": "code",
      "source": [
        "import tensorflow as tf\n",
        "from sklearn.ensemble import RandomForestClassifier\n",
        "import pandas as pd\n",
        "import numpy as np\n",
        "import nltk\n",
        "from nltk.tokenize import word_tokenize\n",
        "\n",
        "# Inicialize o NLTK para PLN\n",
        "nltk.download('punkt')\n"
      ],
      "metadata": {
        "id": "2OQ4Zd2BmTbP",
        "outputId": "933ec261-de00-4e3e-b636-7f82ac50b6dc",
        "colab": {
          "base_uri": "https://localhost:8080/"
        }
      },
      "execution_count": 2,
      "outputs": [
        {
          "output_type": "stream",
          "name": "stderr",
          "text": [
            "[nltk_data] Downloading package punkt to /root/nltk_data...\n",
            "[nltk_data]   Unzipping tokenizers/punkt.zip.\n"
          ]
        },
        {
          "output_type": "execute_result",
          "data": {
            "text/plain": [
              "True"
            ]
          },
          "metadata": {},
          "execution_count": 2
        }
      ]
    },
    {
      "cell_type": "code",
      "source": [
        "# Dados iniciais dos usuários\n",
        "user_data = pd.DataFrame({\n",
        "    'user_id': [1, 2],\n",
        "    'nome': ['Alice', 'Bruno'],\n",
        "    'pontos': [0, 0],\n",
        "    'corretas': [0, 0],\n",
        "    'incorretas': [0, 0]\n",
        "})\n",
        "\n",
        "# Função para atualizar os pontos do usuário\n",
        "def atualizar_pontos(user_id, pontos, correta=True):\n",
        "    user_data.loc[user_data['user_id'] == user_id, 'pontos'] += pontos\n",
        "    if correta:\n",
        "        user_data.loc[user_data['user_id'] == user_id, 'corretas'] += 1\n",
        "    else:\n",
        "        user_data.loc[user_data['user_id'] == user_id, 'incorretas'] += 1\n"
      ],
      "metadata": {
        "id": "F775WTdym6hd"
      },
      "execution_count": 3,
      "outputs": []
    },
    {
      "cell_type": "code",
      "source": [
        "def quiz_interativo(user_id):\n",
        "    print(\"Bem-vindo ao Quiz de Higiene Bucal!\")\n",
        "    perguntas = {\n",
        "        \"Quantas vezes ao dia devemos escovar os dentes?\": [\"1 vez\", \"2 vezes\", \"3 vezes\"],\n",
        "        \"Qual o tempo mínimo para uma escovação adequada?\": [\"30 segundos\", \"1 minuto\", \"2 minutos\"],\n",
        "        \"É necessário escovar a língua?\": [\"Sim\", \"Não\"],\n",
        "        \"Com que frequência devemos usar o fio dental?\": [\"Uma vez por semana\", \"Uma vez ao dia\", \"A cada escovação\"],\n",
        "        \"Qual tipo de escova é recomendada para uma escovação eficaz?\": [\"Dura\", \"Macia\", \"Média\"],\n",
        "        \"É importante visitar o dentista regularmente?\": [\"Sim\", \"Não\"],\n",
        "        \"Por quanto tempo devemos trocar a escova de dentes?\": [\"A cada 3 meses\", \"A cada 6 meses\", \"Uma vez por ano\"],\n",
        "        \"Qual o risco de não escovar os dentes regularmente?\": [\"Cáries\", \"Mau hálito\", \"Ambas\"],\n",
        "    }\n",
        "\n",
        "    respostas_certas = [\"3 vezes\", \"2 minutos\", \"Sim\", \"Uma vez ao dia\", \"Macia\", \"Sim\", \"A cada 3 meses\", \"Ambas\"]\n",
        "    pontos_por_pergunta = 10\n",
        "\n",
        "    for i, (pergunta, opcoes) in enumerate(perguntas.items()):\n",
        "        print(f\"\\nPergunta {i + 1}: {pergunta}\")\n",
        "        for idx, opcao in enumerate(opcoes):\n",
        "            print(f\"{idx + 1}. {opcao}\")\n",
        "\n",
        "        resposta = input(\"Escolha sua resposta (1/2/3): \")\n",
        "        if opcoes[int(resposta) - 1] == respostas_certas[i]:\n",
        "            print(\"Correto!\")\n",
        "            atualizar_pontos(user_id, pontos_por_pergunta, correta=True)\n",
        "        else:\n",
        "            print(\"Incorreto!\")\n",
        "            atualizar_pontos(user_id, pontos_por_pergunta, correta=False)\n",
        "\n",
        "    print(\"\\nQuiz concluído! Seus pontos foram atualizados.\")\n",
        "    print(user_data.loc[user_data['user_id'] == user_id])\n",
        "\n"
      ],
      "metadata": {
        "id": "bSrReWcunBOt"
      },
      "execution_count": 9,
      "outputs": []
    },
    {
      "cell_type": "code",
      "source": [
        "# Dados de exemplo para treinamento\n",
        "train_data = np.array([[3, 1], [2, 0], [3, 0], [1, 1]])  # Exemplo: [Escovações diárias, Uso de fio dental]\n",
        "train_labels = np.array([1, 0, 1, 0])  # Exemplo: 1 = Saúde bucal boa, 0 = Necessita melhorias\n",
        "\n",
        "# Modelo de rede neural simples\n",
        "model = tf.keras.models.Sequential([\n",
        "    tf.keras.layers.Dense(10, activation='relu', input_shape=(2,)),\n",
        "    tf.keras.layers.Dense(1, activation='sigmoid')\n",
        "])\n",
        "\n",
        "model.compile(optimizer='adam', loss='binary_crossentropy', metrics=['accuracy'])\n",
        "model.fit(train_data, train_labels, epochs=10)\n"
      ],
      "metadata": {
        "id": "wmQdF_2SnNo8",
        "outputId": "9ae1b2c1-2e4f-4c0c-8732-c751a566c0de",
        "colab": {
          "base_uri": "https://localhost:8080/"
        }
      },
      "execution_count": 10,
      "outputs": [
        {
          "output_type": "stream",
          "name": "stdout",
          "text": [
            "Epoch 1/10\n"
          ]
        },
        {
          "output_type": "stream",
          "name": "stderr",
          "text": [
            "/usr/local/lib/python3.10/dist-packages/keras/src/layers/core/dense.py:87: UserWarning: Do not pass an `input_shape`/`input_dim` argument to a layer. When using Sequential models, prefer using an `Input(shape)` object as the first layer in the model instead.\n",
            "  super().__init__(activity_regularizer=activity_regularizer, **kwargs)\n"
          ]
        },
        {
          "output_type": "stream",
          "name": "stdout",
          "text": [
            "\u001b[1m1/1\u001b[0m \u001b[32m━━━━━━━━━━━━━━━━━━━━\u001b[0m\u001b[37m\u001b[0m \u001b[1m1s\u001b[0m 928ms/step - accuracy: 0.5000 - loss: 0.6821\n",
            "Epoch 2/10\n",
            "\u001b[1m1/1\u001b[0m \u001b[32m━━━━━━━━━━━━━━━━━━━━\u001b[0m\u001b[37m\u001b[0m \u001b[1m0s\u001b[0m 30ms/step - accuracy: 0.5000 - loss: 0.6793\n",
            "Epoch 3/10\n",
            "\u001b[1m1/1\u001b[0m \u001b[32m━━━━━━━━━━━━━━━━━━━━\u001b[0m\u001b[37m\u001b[0m \u001b[1m0s\u001b[0m 29ms/step - accuracy: 0.5000 - loss: 0.6766\n",
            "Epoch 4/10\n",
            "\u001b[1m1/1\u001b[0m \u001b[32m━━━━━━━━━━━━━━━━━━━━\u001b[0m\u001b[37m\u001b[0m \u001b[1m0s\u001b[0m 29ms/step - accuracy: 0.5000 - loss: 0.6739\n",
            "Epoch 5/10\n",
            "\u001b[1m1/1\u001b[0m \u001b[32m━━━━━━━━━━━━━━━━━━━━\u001b[0m\u001b[37m\u001b[0m \u001b[1m0s\u001b[0m 57ms/step - accuracy: 0.5000 - loss: 0.6713\n",
            "Epoch 6/10\n",
            "\u001b[1m1/1\u001b[0m \u001b[32m━━━━━━━━━━━━━━━━━━━━\u001b[0m\u001b[37m\u001b[0m \u001b[1m0s\u001b[0m 30ms/step - accuracy: 0.5000 - loss: 0.6687\n",
            "Epoch 7/10\n",
            "\u001b[1m1/1\u001b[0m \u001b[32m━━━━━━━━━━━━━━━━━━━━\u001b[0m\u001b[37m\u001b[0m \u001b[1m0s\u001b[0m 32ms/step - accuracy: 0.5000 - loss: 0.6662\n",
            "Epoch 8/10\n",
            "\u001b[1m1/1\u001b[0m \u001b[32m━━━━━━━━━━━━━━━━━━━━\u001b[0m\u001b[37m\u001b[0m \u001b[1m0s\u001b[0m 30ms/step - accuracy: 0.5000 - loss: 0.6637\n",
            "Epoch 9/10\n",
            "\u001b[1m1/1\u001b[0m \u001b[32m━━━━━━━━━━━━━━━━━━━━\u001b[0m\u001b[37m\u001b[0m \u001b[1m0s\u001b[0m 30ms/step - accuracy: 0.5000 - loss: 0.6612\n",
            "Epoch 10/10\n",
            "\u001b[1m1/1\u001b[0m \u001b[32m━━━━━━━━━━━━━━━━━━━━\u001b[0m\u001b[37m\u001b[0m \u001b[1m0s\u001b[0m 30ms/step - accuracy: 0.5000 - loss: 0.6588\n"
          ]
        },
        {
          "output_type": "execute_result",
          "data": {
            "text/plain": [
              "<keras.src.callbacks.history.History at 0x7d196b43d690>"
            ]
          },
          "metadata": {},
          "execution_count": 10
        }
      ]
    },
    {
      "cell_type": "code",
      "source": [
        "# Exemplo de dados para treinamento de modelo preditivo\n",
        "X_train = np.array([[3, 1, 10], [2, 1, 8], [1, 0, 6], [3, 0, 7]])\n",
        "y_train = np.array([1, 1, 0, 1])  # 1 = Saúde bucal boa, 0 = Necessita melhorias\n",
        "\n",
        "# Criação do classificador\n",
        "clf = RandomForestClassifier()\n",
        "clf.fit(X_train, y_train)\n",
        "\n",
        "# Função para fazer previsões\n",
        "def prever_saude_bucal(habitos):\n",
        "    predicao = clf.predict([habitos])\n",
        "    if predicao == 1:\n",
        "        print(\"Saúde bucal em dia! Continue assim.\")\n",
        "    else:\n",
        "        print(\"É recomendável melhorar os hábitos de higiene bucal.\")\n"
      ],
      "metadata": {
        "id": "l-sHF6nKnaJZ"
      },
      "execution_count": 11,
      "outputs": []
    },
    {
      "cell_type": "code",
      "source": [
        "# Função de respostas simples usando PLN\n",
        "def responder_pergunta(pergunta):\n",
        "    tokens = word_tokenize(pergunta.lower())\n",
        "\n",
        "    if \"escovar\" in tokens or \"vezes\" in tokens:\n",
        "        return \"Recomenda-se escovar os dentes pelo menos 3 vezes ao dia.\"\n",
        "    elif \"fio dental\" in tokens:\n",
        "        return \"É importante usar fio dental ao menos uma vez ao dia.\"\n",
        "    elif \"língua\" in tokens:\n",
        "        return \"Sim, escovar a língua é importante para evitar o acúmulo de bactérias.\"\n",
        "    elif \"escova\" in tokens and \"tipo\" in tokens:\n",
        "        return \"É recomendável usar uma escova de cerdas macias para uma escovação eficaz.\"\n",
        "    elif \"dentista\" in tokens:\n",
        "        return \"É importante visitar o dentista regularmente, pelo menos uma vez a cada seis meses.\"\n",
        "    elif \"trocar\" in tokens and \"escova\" in tokens:\n",
        "        return \"Recomenda-se trocar a escova de dentes a cada 3 meses.\"\n",
        "    elif \"cáries\" in tokens or \"mau hálito\" in tokens:\n",
        "        return \"A falta de escovação regular pode causar cáries e mau hálito.\"\n",
        "    else:\n",
        "        return \"Tente reformular sua pergunta sobre higiene bucal!\"\n",
        "\n",
        "# Testando a função\n",
        "pergunta_usuario = \"Com que frequência devo trocar a escova de dentes?\"\n",
        "print(responder_pergunta(pergunta_usuario))\n",
        "\n"
      ],
      "metadata": {
        "id": "k3Zxv6I5nh6j",
        "outputId": "641b8a33-f7cc-4633-94f5-11dc3ea0d03c",
        "colab": {
          "base_uri": "https://localhost:8080/"
        }
      },
      "execution_count": 13,
      "outputs": [
        {
          "output_type": "stream",
          "name": "stdout",
          "text": [
            "Recomenda-se trocar a escova de dentes a cada 3 meses.\n"
          ]
        }
      ]
    },
    {
      "cell_type": "code",
      "source": [
        "# Função para gerar recomendações aleatórias\n",
        "def gerar_recomendacao(erros):\n",
        "    recomendacoes = {\n",
        "        \"escovar_dentes\": \"Tente escovar os dentes pelo menos 3 vezes ao dia.\",\n",
        "        \"fio_dental\": \"Lembre-se de usar fio dental diariamente para uma limpeza completa.\",\n",
        "        \"escova_lingua\": \"Não esqueça de escovar a língua para evitar o acúmulo de bactérias.\",\n",
        "        \"tipo_escova\": \"Use uma escova de cerdas macias para uma escovação mais eficaz.\",\n",
        "        \"visita_dentista\": \"Procure visitar o dentista regularmente, ao menos a cada seis meses.\",\n",
        "        \"troca_escova\": \"Troque sua escova de dentes a cada 3 meses para uma higiene adequada.\",\n",
        "        \"riscos\": \"Escovar os dentes regularmente ajuda a evitar cáries e mau hálito.\"\n",
        "    }\n",
        "\n",
        "    # Se houver erros, seleciona uma recomendação aleatória baseada nos erros\n",
        "    if erros:\n",
        "        recomendacoes_erro = [recomendacoes[erro] for erro in erros]\n",
        "        return random.choice(recomendacoes_erro)\n",
        "    # Se não houver erros, parabeniza o usuário\n",
        "    else:\n",
        "        return \"Parabéns! Você acertou tudo e está indo muito bem com sua higiene bucal!\"\n",
        "\n",
        "# Função para executar o quiz e gerar recomendações com base no desempenho\n",
        "def quiz_interativo(user_id):\n",
        "    print(\"Bem-vindo ao Quiz de Higiene Bucal!\")\n",
        "    perguntas = {\n",
        "        \"Quantas vezes ao dia devemos escovar os dentes?\": [\"1 vez\", \"2 vezes\", \"3 vezes\"],\n",
        "        \"Qual o tempo mínimo para uma escovação adequada?\": [\"30 segundos\", \"1 minuto\", \"2 minutos\"],\n",
        "        \"É necessário escovar a língua?\": [\"Sim\", \"Não\"],\n",
        "        \"Com que frequência devemos usar o fio dental?\": [\"Uma vez por semana\", \"Uma vez ao dia\", \"A cada escovação\"],\n",
        "        \"Qual tipo de escova é recomendada para uma escovação eficaz?\": [\"Dura\", \"Macia\", \"Média\"],\n",
        "        \"É importante visitar o dentista regularmente?\": [\"Sim\", \"Não\"],\n",
        "        \"Por quanto tempo devemos trocar a escova de dentes?\": [\"A cada 3 meses\", \"A cada 6 meses\", \"Uma vez por ano\"],\n",
        "        \"Qual o risco de não escovar os dentes regularmente?\": [\"Cáries\", \"Mau hálito\", \"Ambas\"],\n",
        "    }\n",
        "\n",
        "    respostas_certas = [\"3 vezes\", \"2 minutos\", \"Sim\", \"Uma vez ao dia\", \"Macia\", \"Sim\", \"A cada 3 meses\", \"Ambas\"]\n",
        "    pontos_por_pergunta = 10\n",
        "    erros = []\n",
        "\n",
        "    for i, (pergunta, opcoes) in enumerate(perguntas.items()):\n",
        "        print(f\"\\nPergunta {i + 1}: {pergunta}\")\n",
        "        for idx, opcao in enumerate(opcoes):\n",
        "            print(f\"{idx + 1}. {opcao}\")\n",
        "\n",
        "        resposta = input(\"Escolha sua resposta (1/2/3): \")\n",
        "        if opcoes[int(resposta) - 1] == respostas_certas[i]:\n",
        "            print(\"Correto!\")\n",
        "            atualizar_pontos(user_id, pontos_por_pergunta, correta=True)\n",
        "        else:\n",
        "            print(\"Incorreto!\")\n",
        "            atualizar_pontos(user_id, pontos_por_pergunta, correta=False)\n",
        "            # Adiciona o tipo de erro baseado na pergunta\n",
        "            if \"vezes\" in pergunta or \"escovar os dentes\" in pergunta:\n",
        "                erros.append(\"escovar_dentes\")\n",
        "            elif \"fio dental\" in pergunta:\n",
        "                erros.append(\"fio_dental\")\n",
        "            elif \"língua\" in pergunta:\n",
        "                erros.append(\"escova_lingua\")\n",
        "            elif \"tipo de escova\" in pergunta:\n",
        "                erros.append(\"tipo_escova\")\n",
        "            elif \"dentista\" in pergunta:\n",
        "                erros.append(\"visita_dentista\")\n",
        "            elif \"trocar a escova\" in pergunta:\n",
        "                erros.append(\"troca_escova\")\n",
        "            elif \"não escovar\" in pergunta:\n",
        "                erros.append(\"riscos\")\n",
        "\n",
        "    print(\"\\nQuiz concluído! Seus pontos foram atualizados.\")\n",
        "    print(user_data.loc[user_data['user_id'] == user_id])\n",
        "\n",
        "    # Gera recomendação com base nos erros\n",
        "    recomendacao = gerar_recomendacao(erros)\n",
        "    print(\"Recomendação da IA:\", recomendacao)\n",
        "\n",
        "# ID do usuário\n",
        "user_id = 1\n",
        "\n",
        "# Rodar quiz interativo\n",
        "quiz_interativo(user_id)\n",
        "\n"
      ],
      "metadata": {
        "id": "3ly95lvtnj3D",
        "outputId": "b7bc61f4-0d74-4a81-a081-493e937ae2ed",
        "colab": {
          "base_uri": "https://localhost:8080/"
        }
      },
      "execution_count": 16,
      "outputs": [
        {
          "output_type": "stream",
          "name": "stdout",
          "text": [
            "Bem-vindo ao Quiz de Higiene Bucal!\n",
            "\n",
            "Pergunta 1: Quantas vezes ao dia devemos escovar os dentes?\n",
            "1. 1 vez\n",
            "2. 2 vezes\n",
            "3. 3 vezes\n",
            "Escolha sua resposta (1/2/3): 3\n",
            "Correto!\n",
            "\n",
            "Pergunta 2: Qual o tempo mínimo para uma escovação adequada?\n",
            "1. 30 segundos\n",
            "2. 1 minuto\n",
            "3. 2 minutos\n",
            "Escolha sua resposta (1/2/3): 3\n",
            "Correto!\n",
            "\n",
            "Pergunta 3: É necessário escovar a língua?\n",
            "1. Sim\n",
            "2. Não\n",
            "Escolha sua resposta (1/2/3): 1\n",
            "Correto!\n",
            "\n",
            "Pergunta 4: Com que frequência devemos usar o fio dental?\n",
            "1. Uma vez por semana\n",
            "2. Uma vez ao dia\n",
            "3. A cada escovação\n",
            "Escolha sua resposta (1/2/3): 2\n",
            "Correto!\n",
            "\n",
            "Pergunta 5: Qual tipo de escova é recomendada para uma escovação eficaz?\n",
            "1. Dura\n",
            "2. Macia\n",
            "3. Média\n",
            "Escolha sua resposta (1/2/3): 2\n",
            "Correto!\n",
            "\n",
            "Pergunta 6: É importante visitar o dentista regularmente?\n",
            "1. Sim\n",
            "2. Não\n",
            "Escolha sua resposta (1/2/3): 1\n",
            "Correto!\n",
            "\n",
            "Pergunta 7: Por quanto tempo devemos trocar a escova de dentes?\n",
            "1. A cada 3 meses\n",
            "2. A cada 6 meses\n",
            "3. Uma vez por ano\n",
            "Escolha sua resposta (1/2/3): 1\n",
            "Correto!\n",
            "\n",
            "Pergunta 8: Qual o risco de não escovar os dentes regularmente?\n",
            "1. Cáries\n",
            "2. Mau hálito\n",
            "3. Ambas\n",
            "Escolha sua resposta (1/2/3): 3\n",
            "Correto!\n",
            "\n",
            "Quiz concluído! Seus pontos foram atualizados.\n",
            "   user_id   nome  pontos  corretas  incorretas\n",
            "0        1  Alice     260        18           8\n",
            "Recomendação da IA: Parabéns! Você acertou tudo e está indo muito bem com sua higiene bucal!\n"
          ]
        }
      ]
    }
  ],
  "metadata": {
    "colab": {
      "name": "Damos-lhe as boas-vindas ao Colaboratory",
      "toc_visible": true,
      "provenance": []
    },
    "kernelspec": {
      "display_name": "Python 3",
      "name": "python3"
    }
  },
  "nbformat": 4,
  "nbformat_minor": 0
}